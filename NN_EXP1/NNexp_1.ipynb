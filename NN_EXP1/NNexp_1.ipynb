{
 "cells": [
  {
   "cell_type": "markdown",
   "metadata": {},
   "source": []
  },
  {
   "cell_type": "markdown",
   "metadata": {},
   "source": [
    "OBJECTIVE : WAP to implement the Perceptron Learning Algorithm using numpy in Python. Evaluate performance of a single perceptron for NAND and XOR truth tables as input dataset. \n"
   ]
  },
  {
   "cell_type": "markdown",
   "metadata": {},
   "source": [
    "MODEL IMPLEMENTATION"
   ]
  },
  {
   "cell_type": "code",
   "execution_count": 2,
   "metadata": {},
   "outputs": [
    {
     "name": "stdout",
     "output_type": "stream",
     "text": [
      "NAND Perceptron Accuracy: 1.0\n",
      "XOR Perceptron Accuracy: 0.5\n"
     ]
    }
   ],
   "source": [
    "import numpy as np\n",
    "\n",
    "class Perceptron:\n",
    "    def __init__(self, input_size, learning_rate=0.1, epochs=100):\n",
    "        \n",
    "        self.weights = np.random.randn(input_size + 1)  # +1 for bias weight initialization\n",
    "        self.learning_rate = learning_rate\n",
    "        self.epochs = epochs\n",
    "\n",
    "    def activation(self, x):\n",
    "        \n",
    "        return 1 if x >= 0 else 0  \n",
    "\n",
    "    def predict(self, x):\n",
    "        \n",
    "        x = np.insert(x, 0, 1)  # Insert bias term at the beginning\n",
    "        return self.activation(np.dot(self.weights, x))  # Compute weighted sum and apply activation\n",
    "\n",
    "    def train(self, X, y):\n",
    "        \n",
    "        for epoch in range(self.epochs):\n",
    "            for i in range(len(X)):\n",
    "                x_i = np.insert(X[i], 0, 1)  # Insert bias term at the beginning\n",
    "                y_pred = self.activation(np.dot(self.weights, x_i))  # Get prediction\n",
    "                error = y[i] - y_pred  # Compute error\n",
    "                self.weights += self.learning_rate * error * x_i  # Update weights using Perceptron Learning Rule\n",
    "\n",
    "    def evaluate(self, X, y):\n",
    "        \n",
    "        correct = sum(self.predict(x) == y_true for x, y_true in zip(X, y))  # Count correct predictions\n",
    "        accuracy = correct / len(y)  # Compute accuracy\n",
    "        return accuracy\n",
    "\n",
    "# NAND Truth Table \n",
    "X_NAND = np.array([[0, 0], [0, 1], [1, 0], [1, 1]])\n",
    "y_NAND = np.array([1, 1, 1, 0])  # Expected outputs for NAND function\n",
    "\n",
    "# XOR Truth Table \n",
    "X_XOR = np.array([[0, 0], [0, 1], [1, 0], [1, 1]])\n",
    "y_XOR = np.array([0, 1, 1, 0])  # Expected outputs for XOR function\n",
    "\n",
    "# Train perceptron on NAND function \n",
    "perceptron_nand = Perceptron(input_size=2)  \n",
    "perceptron_nand.train(X_NAND, y_NAND)  \n",
    "print(\"NAND Perceptron Accuracy:\", perceptron_nand.evaluate(X_NAND, y_NAND))  \n",
    "\n",
    "# Train perceptron on XOR function\n",
    "perceptron_xor = Perceptron(input_size=2)  \n",
    "perceptron_xor.train(X_XOR, y_XOR)  \n",
    "print(\"XOR Perceptron Accuracy:\", perceptron_xor.evaluate(X_XOR, y_XOR))  \n"
   ]
  },
  {
   "cell_type": "markdown",
   "metadata": {},
   "source": []
  }
 ],
 "metadata": {
  "kernelspec": {
   "display_name": "Python 3",
   "language": "python",
   "name": "python3"
  },
  "language_info": {
   "codemirror_mode": {
    "name": "ipython",
    "version": 3
   },
   "file_extension": ".py",
   "mimetype": "text/x-python",
   "name": "python",
   "nbconvert_exporter": "python",
   "pygments_lexer": "ipython3",
   "version": "3.8.10"
  }
 },
 "nbformat": 4,
 "nbformat_minor": 2
}
