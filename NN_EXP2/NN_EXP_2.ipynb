{
 "cells": [
  {
   "cell_type": "markdown",
   "metadata": {},
   "source": [
    "Objective 2:WAP to implement a multi-layer perceptron (MLP) network with one hidden layer using numpy in Python. Demonstrate that it can learn the XOR Boolean function. "
   ]
  },
  {
   "cell_type": "markdown",
   "metadata": {},
   "source": [
    "MODEL IMPLEMENTATION->\n"
   ]
  },
  {
   "cell_type": "code",
   "execution_count": 14,
   "metadata": {},
   "outputs": [
    {
     "name": "stdout",
     "output_type": "stream",
     "text": [
      "Fun1 Accuracy: 100.00% | Predictions: [0 0 0 1]\n",
      "Fun2 Accuracy: 100.00% | Predictions: [0 0 1 0]\n",
      "Fun3 Accuracy: 100.00% | Predictions: [0 1 0 0]\n",
      "Fun4 Accuracy: 100.00% | Predictions: [1 0 0 0]\n",
      "Final Perceptron Accuracy: 100.00% | Predictions: [0 1 1 0]\n"
     ]
    }
   ],
   "source": [
    "import numpy as np\n",
    "import matplotlib.pyplot as plt\n",
    "import seaborn as sns\n",
    "from sklearn.metrics import confusion_matrix\n",
    "\n",
    "# Perceptron class for binary classification\n",
    "class Perceptron:\n",
    "    def __init__(self, input_size, learning_rate=0.1, epochs=25):\n",
    "        \n",
    "        self.weights = np.random.randn(input_size + 1)  # Including bias term\n",
    "        self.learning_rate = learning_rate\n",
    "        self.epochs = epochs\n",
    "\n",
    "    def activation(self, x):\n",
    "       \n",
    "        return 1 if x >= 0 else 0\n",
    "\n",
    "    def predict(self, x):\n",
    "        \n",
    "        x_with_bias = np.insert(x, 0, 1)  # Add bias term at the beginning\n",
    "        return self.activation(np.dot(self.weights, x_with_bias))\n",
    "\n",
    "    def train(self, X, y):\n",
    "       \n",
    "        X_bias = np.c_[np.ones(X.shape[0]), X]  # Add bias column\n",
    "        for _ in range(self.epochs):\n",
    "            for i in range(X.shape[0]):  \n",
    "                prediction = self.activation(np.dot(self.weights, X_bias[i]))  \n",
    "                # Update weights using the perceptron learning rule\n",
    "                self.weights += self.learning_rate * (y[i] - prediction) * X_bias[i]\n",
    "\n",
    "    def evaluate(self, X, y):\n",
    "        \n",
    "        predictions = np.array([self.predict(x) for x in X])\n",
    "        accuracy = np.mean(predictions == y) * 100\n",
    "        return accuracy, predictions\n",
    "\n",
    "# Function to Train and Evaluate the Perceptron\n",
    "def train_perceptron(X, y, label):\n",
    "   \n",
    "    perceptron = Perceptron(input_size=X.shape[1])\n",
    "    perceptron.train(X, y)\n",
    "    accuracy, predictions = perceptron.evaluate(X, y)\n",
    "    print(f\"{label} Accuracy: {accuracy:.2f}% | Predictions: {predictions}\")\n",
    "    return predictions, y\n",
    "\n",
    "# Truth table inputs (X values)\n",
    "X_values = np.array([\n",
    "    [0, 0],\n",
    "    [0, 1],\n",
    "    [1, 0],\n",
    "    [1, 1]\n",
    "])\n",
    "\n",
    "# Truth table outputs (Y values) for different logic functions\n",
    "Y_fun1 = np.array([0, 0, 0, 1])  # NAND function\n",
    "Y_fun2 = np.array([0, 0, 1, 0])  # Custom function\n",
    "Y_fun3 = np.array([0, 1, 0, 0])  # Custom function\n",
    "Y_fun4 = np.array([1, 0, 0, 0])  # Custom function\n",
    "\n",
    "# Train perceptrons for each individual function\n",
    "pred_1, _ = train_perceptron(X_values, Y_fun1, \"Fun1\")\n",
    "pred_2, _ = train_perceptron(X_values, Y_fun2, \"Fun2\")\n",
    "pred_3, _ = train_perceptron(X_values, Y_fun3, \"Fun3\")\n",
    "pred_4, _ = train_perceptron(X_values, Y_fun4, \"Fun4\")\n",
    "\n",
    "# Combine predictions from previous perceptrons as input for the final perceptron\n",
    "final_input = np.column_stack([pred_1, pred_2, pred_3, pred_4])\n",
    "final_output = np.array([0, 1, 1, 0])  # Desired final output\n",
    "\n",
    "# Train and evaluate the final perceptron\n",
    "final_predictions, actual_y = train_perceptron(final_input, final_output, \"Final Perceptron\")\n"
   ]
  },
  {
   "cell_type": "markdown",
   "metadata": {},
   "source": []
  },
  {
   "cell_type": "markdown",
   "metadata": {},
   "source": []
  }
 ],
 "metadata": {
  "kernelspec": {
   "display_name": "Python 3",
   "language": "python",
   "name": "python3"
  },
  "language_info": {
   "codemirror_mode": {
    "name": "ipython",
    "version": 3
   },
   "file_extension": ".py",
   "mimetype": "text/x-python",
   "name": "python",
   "nbconvert_exporter": "python",
   "pygments_lexer": "ipython3",
   "version": "3.8.10"
  }
 },
 "nbformat": 4,
 "nbformat_minor": 2
}
